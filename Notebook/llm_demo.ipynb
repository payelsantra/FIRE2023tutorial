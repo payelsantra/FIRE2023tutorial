{
  "nbformat": 4,
  "nbformat_minor": 0,
  "metadata": {
    "colab": {
      "provenance": [],
      "gpuType": "T4"
    },
    "kernelspec": {
      "name": "python3",
      "display_name": "Python 3"
    },
    "language_info": {
      "name": "python"
    },
    "accelerator": "GPU"
  },
  "cells": [
    {
      "cell_type": "code",
      "source": [
        "from google.colab import drive\n",
        "drive.mount('/content/drive')"
      ],
      "metadata": {
        "colab": {
          "base_uri": "https://localhost:8080/"
        },
        "id": "ChKuUMdH98i8",
        "outputId": "2264fa5f-5ef7-4706-889e-888e8bea1eee"
      },
      "execution_count": null,
      "outputs": [
        {
          "output_type": "stream",
          "name": "stdout",
          "text": [
            "Mounted at /content/drive\n"
          ]
        }
      ]
    },
    {
      "cell_type": "code",
      "source": [
        "!pip install transformers"
      ],
      "metadata": {
        "id": "rMP8OUGFcBf2"
      },
      "execution_count": null,
      "outputs": []
    },
    {
      "cell_type": "code",
      "source": [
        "!pip install sentence-transformers"
      ],
      "metadata": {
        "id": "K3sjcCb7A1sW"
      },
      "execution_count": null,
      "outputs": []
    },
    {
      "cell_type": "code",
      "source": [
        "import tensorflow as tf\n",
        "from tqdm import tqdm\n",
        "from transformers import AutoTokenizer"
      ],
      "metadata": {
        "id": "gPxoaNjvchE5"
      },
      "execution_count": null,
      "outputs": []
    },
    {
      "cell_type": "code",
      "source": [
        "import pandas as pd\n",
        "data_train=pd.read_csv(\"/content/drive/MyDrive/INPUT_knn/adaptive/train_data_adaptive_wiki.csv\")\n",
        "data_dev=pd.read_csv(\"/content/drive/MyDrive/INPUT_knn/adaptive/dev_data_adaptive_wiki.csv\")\n",
        "data_test=pd.read_csv(\"/content/drive/MyDrive/INPUT_knn/adaptive/test_data_adaptive_wiki.csv\")"
      ],
      "metadata": {
        "id": "YjWtKQ-3-Dot"
      },
      "execution_count": null,
      "outputs": []
    },
    {
      "cell_type": "code",
      "source": [
        "claim_ls_train=data_train['claim'].tolist()\n",
        "label_ls_train=data_train['k_val'].tolist()\n",
        "claim_ls_dev=data_dev['claim'].tolist()\n",
        "label_ls_dev=data_dev['k_val'].tolist()\n",
        "claim_ls_test=data_test['claim'].tolist()\n",
        "label_ls_test=data_test['k_val'].tolist()"
      ],
      "metadata": {
        "id": "ktBqoz0rZxsc"
      },
      "execution_count": null,
      "outputs": []
    },
    {
      "cell_type": "code",
      "source": [
        "def updated_list(data):\n",
        "  label_ts=[]\n",
        "  for i in tqdm(data):\n",
        "    label_ts.append(i-1)\n",
        "  return label_ts"
      ],
      "metadata": {
        "id": "cTbr7ozX9lOy"
      },
      "execution_count": null,
      "outputs": []
    },
    {
      "cell_type": "code",
      "source": [
        "label_ls_train_updated=updated_list(label_ls_train)\n",
        "label_ls_dev_updated=updated_list(label_ls_dev)\n",
        "label_ls_test_updated=updated_list(label_ls_test)"
      ],
      "metadata": {
        "colab": {
          "base_uri": "https://localhost:8080/"
        },
        "id": "o2jqHo1F94Ss",
        "outputId": "492c6838-651f-4c0a-d9bf-5bcee52e4448"
      },
      "execution_count": null,
      "outputs": [
        {
          "output_type": "stream",
          "name": "stderr",
          "text": [
            "100%|██████████| 92062/92062 [00:00<00:00, 2478631.04it/s]\n",
            "100%|██████████| 10230/10230 [00:00<00:00, 1276901.76it/s]\n",
            "100%|██████████| 13089/13089 [00:00<00:00, 1165811.83it/s]\n"
          ]
        }
      ]
    },
    {
      "cell_type": "code",
      "source": [
        "from sentence_transformers import SentenceTransformer\n",
        "model = SentenceTransformer('bert-base-cased')\n",
        "\n",
        "#Sentences are encoded by calling model.encode()\n",
        "embeddings = model.encode(claim_ls_train)\n",
        "\n",
        "#Print the embeddings\n",
        "for sentence, embedding in zip(claim_ls_train, embeddings):\n",
        "    print(\"Sentence:\", sentence)\n",
        "    print(\"Embedding:\", embedding)\n",
        "    break"
      ],
      "metadata": {
        "id": "bNO7rOGDBcmW"
      },
      "execution_count": null,
      "outputs": []
    },
    {
      "cell_type": "code",
      "source": [
        "from transformers import TFBertModel"
      ],
      "metadata": {
        "id": "Nu6JHKeMaOQW"
      },
      "execution_count": null,
      "outputs": []
    },
    {
      "cell_type": "code",
      "source": [
        "# mlm_model = TFBertModel.from_pretrained('bert-base-cased')"
      ],
      "metadata": {
        "id": "UTY-uEXDamQV"
      },
      "execution_count": null,
      "outputs": []
    },
    {
      "cell_type": "code",
      "source": [
        "# tokenizer = AutoTokenizer.from_pretrained('bert-base-cased')"
      ],
      "metadata": {
        "id": "RXGZWHhogENf"
      },
      "execution_count": null,
      "outputs": []
    },
    {
      "cell_type": "code",
      "source": [
        "# training_encodings = tokenizer(claim_ls_train,truncation=True,max_length=512,padding='max_length')\n",
        "training_output=tf.keras.utils.to_categorical(label_ls_train_updated,num_classes=6)\n",
        "# validation_encodings = tokenizer(claim_ls_dev,truncation=True,max_length=512,padding='max_length')\n",
        "# validation_output=tf.keras.utils.to_categorical(label_ls_dev_updated,num_classes=6)\n",
        "# test_encodings = tokenizer(claim_ls_test,truncation=True,max_length=512,padding='max_length')\n",
        "# test_output=tf.keras.utils.to_categorical(label_ls_test_updated,num_classes=6)"
      ],
      "metadata": {
        "id": "qFmPNeAOiMOK"
      },
      "execution_count": null,
      "outputs": []
    },
    {
      "cell_type": "code",
      "source": [
        "def get_ragged_tensor_representation(encodings):\n",
        "  encodings['input_ids']=tf.dtypes.cast(tf.constant(encodings['input_ids']),tf.int32)\n",
        "  encodings['token_type_ids']=tf.dtypes.cast(tf.constant(encodings['token_type_ids']),tf.int32)\n",
        "  encodings['attention_mask']=tf.dtypes.cast(tf.constant(encodings['attention_mask']),tf.int32)\n",
        "  return encodings"
      ],
      "metadata": {
        "id": "vSRJF1Ej3k5a"
      },
      "execution_count": null,
      "outputs": []
    },
    {
      "cell_type": "code",
      "source": [
        "def dense_tensor_creation(data,y):\n",
        "  return data,y"
      ],
      "metadata": {
        "id": "1FBKCEJ73qPL"
      },
      "execution_count": null,
      "outputs": []
    },
    {
      "cell_type": "code",
      "source": [
        "# training_input_bert=get_ragged_tensor_representation(training_encodings)\n",
        "# validation_input_bert=get_ragged_tensor_representation(validation_encodings)\n",
        "# test_input_bert=get_ragged_tensor_representation(test_encodings)"
      ],
      "metadata": {
        "id": "nfriOed3dQMV"
      },
      "execution_count": null,
      "outputs": []
    },
    {
      "cell_type": "code",
      "source": [
        "train_dataset = tf.data.Dataset.from_tensor_slices((embeddings,training_output))\n",
        "# valid_dataset = tf.data.Dataset.from_tensor_slices((validation_input_bert,validation_output))\n",
        "# test_dataset = tf.data.Dataset.from_tensor_slices((test_input_bert,test_output))"
      ],
      "metadata": {
        "id": "GZv2fBwXG4cj"
      },
      "execution_count": null,
      "outputs": []
    },
    {
      "cell_type": "code",
      "source": [
        "training_output.shape"
      ],
      "metadata": {
        "colab": {
          "base_uri": "https://localhost:8080/"
        },
        "id": "Rwh4SlZffOZG",
        "outputId": "84d8c627-f8e1-46db-a053-acb6cd43df57"
      },
      "execution_count": null,
      "outputs": [
        {
          "output_type": "execute_result",
          "data": {
            "text/plain": [
              "(92062, 6)"
            ]
          },
          "metadata": {},
          "execution_count": 27
        }
      ]
    },
    {
      "cell_type": "code",
      "source": [
        "def make_batches(ds,batch_size):\n",
        "  return (\n",
        "      ds\n",
        "      .cache()\n",
        "      .map(dense_tensor_creation, num_parallel_calls=tf.data.AUTOTUNE)\n",
        "      .shuffle(1000)\n",
        "      .repeat()\n",
        "      .batch(batch_size)\n",
        "      .prefetch(tf.data.AUTOTUNE))"
      ],
      "metadata": {
        "id": "yzgcG2lzML4l"
      },
      "execution_count": null,
      "outputs": []
    },
    {
      "cell_type": "code",
      "source": [
        "def get_model():\n",
        "  input_word_ids = tf.keras.layers.Input(shape=(768,), dtype=tf.int32,name=\"token_type_ids\")\n",
        "  # attention_mask = tf.keras.layers.Input(shape=(512,), dtype=tf.int32,name=\"attention_mask\")\n",
        "\n",
        "  # mlm_model.layers[0].trainable=False\n",
        "  # sequence_output=mlm_model([input_word_ids,token_type_ids,attention_mask])\n",
        "  out1=tf.keras.layers.Dense(512,activation=\"relu\")(input_word_ids)\n",
        "  out2=tf.keras.layers.Dense(256,activation=\"relu\")(out1)\n",
        "  out3=tf.keras.layers.Dense(128,activation=\"relu\")(out2)\n",
        "  out4=tf.keras.layers.Dense(64,activation=\"relu\")(out3)\n",
        "  out5=tf.keras.layers.Dense(6,activation=\"softmax\")(out4)\n",
        "\n",
        "  model=tf.keras.Model(inputs=[input_word_ids],outputs=out5)\n",
        "\n",
        "  return model"
      ],
      "metadata": {
        "id": "S-6S3XUFThHO"
      },
      "execution_count": null,
      "outputs": []
    },
    {
      "cell_type": "code",
      "source": [
        "model=get_model()\n",
        "optimizer = tf.keras.optimizers.Adam()\n",
        "training_loss = tf.keras.metrics.Mean('training_loss', dtype=tf.float32)\n",
        "training_accuracy = tf.keras.metrics.CategoricalAccuracy('training_accuracy', dtype=tf.float32)"
      ],
      "metadata": {
        "id": "d684U8S-XH6-"
      },
      "execution_count": null,
      "outputs": []
    },
    {
      "cell_type": "code",
      "source": [
        "model.compile(optimizer=optimizer,loss='categorical_crossentropy')"
      ],
      "metadata": {
        "id": "f7eHhB8NaPMa"
      },
      "execution_count": null,
      "outputs": []
    },
    {
      "cell_type": "code",
      "source": [
        "data_trn=make_batches(train_dataset,64)\n",
        "# data_valid=make_batches(valid_dataset,32)\n",
        "# data_test=make_batches(test_dataset,32)"
      ],
      "metadata": {
        "id": "yFy8VrtQPjU2"
      },
      "execution_count": null,
      "outputs": []
    },
    {
      "cell_type": "markdown",
      "source": [
        "## Checking Part"
      ],
      "metadata": {
        "id": "MGxHTsCOcmbd"
      }
    },
    {
      "cell_type": "code",
      "source": [
        "checkpoint_path=\"/content/\""
      ],
      "metadata": {
        "id": "GJD8ekoLXh2R"
      },
      "execution_count": null,
      "outputs": []
    },
    {
      "cell_type": "code",
      "source": [
        "ckpt = tf.train.Checkpoint(model=model, optimizer=optimizer)\n",
        "ckpt_manager = tf.train.CheckpointManager(ckpt, checkpoint_path, max_to_keep=2)\n",
        "if ckpt_manager.latest_checkpoint:\n",
        "  ckpt.restore(ckpt_manager.latest_checkpoint)\n",
        "  print('Latest checkpoint restored; Model was trained for {} steps.'.format(ckpt.optimizer.iterations.numpy()))\n",
        "else:\n",
        "  print('Training from scratch!')"
      ],
      "metadata": {
        "id": "W9_DD8uTXqCB"
      },
      "execution_count": null,
      "outputs": []
    },
    {
      "cell_type": "code",
      "source": [
        "@tf.function\n",
        "def step_fn(inputs):\n",
        "  \"\"\"The computation to run on each TPU device.\"\"\"\n",
        "  images, labels = inputs\n",
        "  with tf.GradientTape() as tape:\n",
        "    logits = model(images, training=True)\n",
        "    loss = tf.keras.losses.categorical_crossentropy(\n",
        "        labels, logits)\n",
        "  grads = tape.gradient(loss, model.trainable_variables)\n",
        "  optimizer.apply_gradients(list(zip(grads, model.trainable_variables)))\n",
        "  training_loss.update_state(loss * tpu_strategy.num_replicas_in_sync)\n",
        "  training_accuracy.update_state(labels, logits)\n",
        "\n",
        "\n",
        "# @tf.function\n",
        "# def valid_step(iterator):\n",
        "#   \"\"\"The step function for one training step\"\"\"\n",
        "\n",
        "#   def step_fn(inputs):\n",
        "#     \"\"\"The computation to run on each TPU device.\"\"\"\n",
        "#     images, labels = inputs\n",
        "#     logits = model(images, training=False)\n",
        "#     loss = tf.keras.losses.categorical_crossentropy(labels, logits)\n",
        "#     loss = tf.nn.compute_average_loss(loss, global_batch_size=global_batch_size)\n",
        "#     validation_loss.update_state(loss * tpu_strategy.num_replicas_in_sync)\n",
        "#     validation_accuracy.update_state(labels, logits)\n",
        "\n",
        "#   tpu_strategy.run(step_fn, args=(next(iterator),))"
      ],
      "metadata": {
        "id": "_n3KkRrWPqHC"
      },
      "execution_count": null,
      "outputs": []
    },
    {
      "cell_type": "markdown",
      "source": [
        "## Training using model.fit"
      ],
      "metadata": {
        "id": "UTDwOW8Jcplc"
      }
    },
    {
      "cell_type": "code",
      "source": [
        "train_iterator = iter(data_trn)"
      ],
      "metadata": {
        "id": "5R1xt79MPxO7"
      },
      "execution_count": null,
      "outputs": []
    },
    {
      "cell_type": "code",
      "source": [
        "steps=int(training_output.shape[0]/64)+1"
      ],
      "metadata": {
        "id": "2TcqAsQEfmel"
      },
      "execution_count": null,
      "outputs": []
    },
    {
      "cell_type": "code",
      "source": [
        "model.fit(train_iterator,steps_per_epoch=steps,epochs=50,class_weight=req_cls_wt)"
      ],
      "metadata": {
        "colab": {
          "base_uri": "https://localhost:8080/"
        },
        "id": "H_HSO03oZ4yH",
        "outputId": "4277a2d3-7e09-4933-83b0-44ba42656792"
      },
      "execution_count": null,
      "outputs": [
        {
          "output_type": "stream",
          "name": "stdout",
          "text": [
            "Epoch 1/50\n",
            "1439/1439 [==============================] - 11s 7ms/step - loss: 1.0518\n",
            "Epoch 2/50\n",
            "1439/1439 [==============================] - 8s 5ms/step - loss: 1.0423\n",
            "Epoch 3/50\n",
            "1439/1439 [==============================] - 7s 5ms/step - loss: 1.0411\n",
            "Epoch 4/50\n",
            "1439/1439 [==============================] - 8s 6ms/step - loss: 1.0399\n",
            "Epoch 5/50\n",
            "1439/1439 [==============================] - 7s 5ms/step - loss: 1.0384\n",
            "Epoch 6/50\n",
            "1439/1439 [==============================] - 8s 6ms/step - loss: 1.0365\n",
            "Epoch 7/50\n",
            "1439/1439 [==============================] - 7s 5ms/step - loss: 1.0354\n",
            "Epoch 8/50\n",
            "1439/1439 [==============================] - 8s 6ms/step - loss: 1.0340\n",
            "Epoch 9/50\n",
            "1439/1439 [==============================] - 6s 5ms/step - loss: 1.0325\n",
            "Epoch 10/50\n",
            "1439/1439 [==============================] - 8s 5ms/step - loss: 1.0297\n",
            "Epoch 11/50\n",
            "1439/1439 [==============================] - 7s 5ms/step - loss: 1.0289\n",
            "Epoch 12/50\n",
            "1439/1439 [==============================] - 7s 5ms/step - loss: 1.0272\n",
            "Epoch 13/50\n",
            "1439/1439 [==============================] - 8s 5ms/step - loss: 1.0257\n",
            "Epoch 14/50\n",
            "1439/1439 [==============================] - 7s 5ms/step - loss: 1.0236\n",
            "Epoch 15/50\n",
            "1439/1439 [==============================] - 10s 7ms/step - loss: 1.0228\n",
            "Epoch 16/50\n",
            "1439/1439 [==============================] - 8s 5ms/step - loss: 1.0199\n",
            "Epoch 17/50\n",
            "1439/1439 [==============================] - 9s 6ms/step - loss: 1.0183\n",
            "Epoch 18/50\n",
            "1439/1439 [==============================] - 8s 5ms/step - loss: 1.0167\n",
            "Epoch 19/50\n",
            "1439/1439 [==============================] - 8s 5ms/step - loss: 1.0161\n",
            "Epoch 20/50\n",
            "1439/1439 [==============================] - 7s 5ms/step - loss: 1.0128\n",
            "Epoch 21/50\n",
            "1439/1439 [==============================] - 8s 6ms/step - loss: 1.0118\n",
            "Epoch 22/50\n",
            "1439/1439 [==============================] - 7s 5ms/step - loss: 1.0118\n",
            "Epoch 23/50\n",
            "1439/1439 [==============================] - 8s 6ms/step - loss: 1.0097\n",
            "Epoch 24/50\n",
            "1439/1439 [==============================] - 7s 5ms/step - loss: 1.0086\n",
            "Epoch 25/50\n",
            "1439/1439 [==============================] - 9s 6ms/step - loss: 1.0072\n",
            "Epoch 26/50\n",
            "1439/1439 [==============================] - 7s 5ms/step - loss: 1.0074\n",
            "Epoch 27/50\n",
            "1439/1439 [==============================] - 9s 6ms/step - loss: 1.0048\n",
            "Epoch 28/50\n",
            "1439/1439 [==============================] - 7s 5ms/step - loss: 1.0034\n",
            "Epoch 29/50\n",
            "1439/1439 [==============================] - 9s 6ms/step - loss: 1.0033\n",
            "Epoch 30/50\n",
            "1439/1439 [==============================] - 6s 4ms/step - loss: 1.0004\n",
            "Epoch 31/50\n",
            "1439/1439 [==============================] - 8s 6ms/step - loss: 1.0001\n",
            "Epoch 32/50\n",
            "1439/1439 [==============================] - 6s 4ms/step - loss: 0.9997\n",
            "Epoch 33/50\n",
            "1439/1439 [==============================] - 8s 6ms/step - loss: 0.9988\n",
            "Epoch 34/50\n",
            "1439/1439 [==============================] - 6s 4ms/step - loss: 0.9989\n",
            "Epoch 35/50\n",
            "1439/1439 [==============================] - 8s 5ms/step - loss: 0.9947\n",
            "Epoch 36/50\n",
            "1439/1439 [==============================] - 7s 5ms/step - loss: 0.9976\n",
            "Epoch 37/50\n",
            "1439/1439 [==============================] - 7s 5ms/step - loss: 0.9934\n",
            "Epoch 38/50\n",
            "1439/1439 [==============================] - 8s 5ms/step - loss: 0.9909\n",
            "Epoch 39/50\n",
            "1439/1439 [==============================] - 7s 5ms/step - loss: 0.9910\n",
            "Epoch 40/50\n",
            "1439/1439 [==============================] - 8s 6ms/step - loss: 0.9903\n",
            "Epoch 41/50\n",
            "1439/1439 [==============================] - 7s 5ms/step - loss: 0.9885\n",
            "Epoch 42/50\n",
            "1439/1439 [==============================] - 8s 6ms/step - loss: 0.9882\n",
            "Epoch 43/50\n",
            "1439/1439 [==============================] - 7s 5ms/step - loss: 0.9868\n",
            "Epoch 44/50\n",
            "1439/1439 [==============================] - 8s 6ms/step - loss: 0.9860\n",
            "Epoch 45/50\n",
            "1439/1439 [==============================] - 7s 5ms/step - loss: 0.9848\n",
            "Epoch 46/50\n",
            "1439/1439 [==============================] - 8s 6ms/step - loss: 0.9838\n",
            "Epoch 47/50\n",
            "1439/1439 [==============================] - 7s 5ms/step - loss: 0.9831\n",
            "Epoch 48/50\n",
            "1439/1439 [==============================] - 9s 6ms/step - loss: 0.9813\n",
            "Epoch 49/50\n",
            "1439/1439 [==============================] - 7s 5ms/step - loss: 0.9805\n",
            "Epoch 50/50\n",
            "1439/1439 [==============================] - 9s 6ms/step - loss: 0.9820\n"
          ]
        },
        {
          "output_type": "execute_result",
          "data": {
            "text/plain": [
              "<keras.src.callbacks.History at 0x7b6ae040e740>"
            ]
          },
          "metadata": {},
          "execution_count": 59
        }
      ]
    },
    {
      "cell_type": "code",
      "source": [
        "from collections import Counter\n",
        "label_dict=Counter(label_ls_train_updated)"
      ],
      "metadata": {
        "id": "oyWLLbSIaKZH"
      },
      "execution_count": null,
      "outputs": []
    },
    {
      "cell_type": "code",
      "source": [
        "req_cls_wt"
      ],
      "metadata": {
        "colab": {
          "base_uri": "https://localhost:8080/"
        },
        "id": "BXiaCL_lHKXi",
        "outputId": "536dfd90-1e4e-42c0-cc49-83a771ec9372"
      },
      "execution_count": null,
      "outputs": [
        {
          "output_type": "execute_result",
          "data": {
            "text/plain": [
              "{4: 2.4142713081492713,\n",
              " 0: 1.0,\n",
              " 5: 1.0,\n",
              " 1: 1.0,\n",
              " 3: 2.0281554888151776,\n",
              " 2: 1.5300688908266167}"
            ]
          },
          "metadata": {},
          "execution_count": 50
        }
      ]
    },
    {
      "cell_type": "code",
      "source": [
        "label_dict"
      ],
      "metadata": {
        "colab": {
          "base_uri": "https://localhost:8080/"
        },
        "id": "nW4MOvvbGPso",
        "outputId": "d9336b13-9513-45b1-d06f-4136b335a8b6"
      },
      "execution_count": null,
      "outputs": [
        {
          "output_type": "execute_result",
          "data": {
            "text/plain": [
              "Counter({4: 1235, 0: 71567, 5: 8035, 1: 6418, 3: 1817, 2: 2990})"
            ]
          },
          "metadata": {},
          "execution_count": 47
        }
      ]
    },
    {
      "cell_type": "code",
      "source": [
        "import numpy as np\n",
        "import math\n",
        "\n",
        "# labels_dict : {ind_label: count_label}\n",
        "# mu : parameter to tune\n",
        "\n",
        "def create_class_weight(labels_dict,mu=0.15):\n",
        "    total = np.sum(list(labels_dict.values()))\n",
        "    keys = labels_dict.keys()\n",
        "    class_weight = dict()\n",
        "\n",
        "    for key in keys:\n",
        "        score = math.log(mu*total/float(labels_dict[key]))\n",
        "        class_weight[key] = score if score > 1.0 else 1.0\n",
        "\n",
        "    return class_weight\n",
        "\n",
        "\n",
        "req_cls_wt=create_class_weight(label_dict)"
      ],
      "metadata": {
        "id": "-sPaaGyTGlLf"
      },
      "execution_count": null,
      "outputs": []
    },
    {
      "cell_type": "code",
      "source": [],
      "metadata": {
        "id": "CXApJm__HGD_"
      },
      "execution_count": null,
      "outputs": []
    }
  ]
}